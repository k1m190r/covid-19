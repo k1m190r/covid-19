{
 "cells": [
  {
   "cell_type": "code",
   "execution_count": 1,
   "metadata": {},
   "outputs": [],
   "source": [
    "import os \n",
    "import sys\n",
    "import glob\n",
    "import requests as req\n",
    "import re\n",
    "import pprint"
   ]
  },
  {
   "cell_type": "code",
   "execution_count": 2,
   "metadata": {},
   "outputs": [],
   "source": [
    "import collections\n",
    "import functools\n",
    "import itertools\n",
    "from itertools import product"
   ]
  },
  {
   "cell_type": "code",
   "execution_count": 3,
   "metadata": {},
   "outputs": [],
   "source": [
    "import numpy as np\n",
    "import pandas as pd\n",
    "import numba as nb\n",
    "import numexpr as ne\n",
    "from scipy.special import gamma, binom"
   ]
  },
  {
   "cell_type": "code",
   "execution_count": 4,
   "metadata": {},
   "outputs": [],
   "source": [
    "from IPython.display import display"
   ]
  },
  {
   "cell_type": "code",
   "execution_count": 5,
   "metadata": {},
   "outputs": [],
   "source": [
    "%matplotlib inline\n",
    "import matplotlib.pyplot as plt"
   ]
  },
  {
   "cell_type": "code",
   "execution_count": 6,
   "metadata": {},
   "outputs": [
    {
     "data": {
      "text/plain": [
       "DataTransformerRegistry.enable('json')"
      ]
     },
     "execution_count": 6,
     "metadata": {},
     "output_type": "execute_result"
    }
   ],
   "source": [
    "import altair as alt\n",
    "alt.data_transformers.enable('json')"
   ]
  },
  {
   "cell_type": "code",
   "execution_count": 7,
   "metadata": {},
   "outputs": [],
   "source": [
    "def download_file(url, file, chunk_size=8192):\n",
    "    \"\"\"Download from 'url' save into 'file'.\"\"\"\n",
    "    with req.get(url, stream=True) as r:\n",
    "        r.raise_for_status()\n",
    "        with open(file, \"wb\") as f:\n",
    "            for chunk in r.iter_content(chunk_size=chunk_size):\n",
    "                if chunk:\n",
    "                    f.write(chunk)\n",
    "                    f.flush()\n",
    "    return file"
   ]
  },
  {
   "cell_type": "code",
   "execution_count": 8,
   "metadata": {},
   "outputs": [],
   "source": [
    "# download all daily observations\n",
    "\n",
    "for x in (\"confirmed\", \"deaths\", \"recovered\"):\n",
    "    url = f\"https://github.com/CSSEGISandData/COVID-19/raw/master/csse_covid_19_data/csse_covid_19_time_series/time_series_covid19_{x}_global.csv\"\n",
    "    file = f\"time_series_covid19_{x}_global.csv\"\n",
    "    download_file(url, file)"
   ]
  },
  {
   "cell_type": "code",
   "execution_count": 9,
   "metadata": {
    "scrolled": true
   },
   "outputs": [
    {
     "name": "stdout",
     "output_type": "stream",
     "text": [
      "time_series_covid19_confirmed_global.csv\r\n",
      "time_series_covid19_deaths_global.csv\r\n",
      "time_series_covid19_recovered_global.csv\r\n"
     ]
    }
   ],
   "source": [
    "! ls *.csv"
   ]
  },
  {
   "cell_type": "code",
   "execution_count": 10,
   "metadata": {},
   "outputs": [],
   "source": [
    "# load all data as is\n",
    "\n",
    "CSV = {\n",
    "    c.split(\"/\")[-1].split(\"_\")[-2]: pd.read_csv(c) for c in glob.iglob(f\"time_series_covid19*global.csv\")\n",
    "}"
   ]
  },
  {
   "cell_type": "code",
   "execution_count": 11,
   "metadata": {},
   "outputs": [],
   "source": [
    "POPULATION = pd.read_excel(\n",
    "    \"population_per_country.xlsx\", index_col=\"Name\", usecols=[\"Name\", \"QTY\"]\n",
    ")\n",
    "POPULATION.dropna(inplace=True)"
   ]
  },
  {
   "cell_type": "code",
   "execution_count": null,
   "metadata": {},
   "outputs": [],
   "source": []
  },
  {
   "cell_type": "code",
   "execution_count": 12,
   "metadata": {},
   "outputs": [],
   "source": [
    "# Clean up and pre-process\n",
    "\n",
    "RENAME = {\n",
    "    \"Burma\": \"Myanmar\",\n",
    "    \"Cabo Verde\": \"Cape Verde\",\n",
    "    \"Congo (Brazzaville)\": \"Republic of the Congo\",\n",
    "    \"Congo (Kinshasa)\": \"Democratic Republic of the Congo\",\n",
    "    \"Cote d'Ivoire\": \"Ivory Coast\",\n",
    "    \"Czechia\": \"Czech Republic\",\n",
    "    \"Korea, South\": \"South Korea\",\n",
    "    \"Sao Tome and Principe\": \"São Tomé and Príncipe\",\n",
    "    \"Taiwan*\": \"Taiwan\",\n",
    "    \"Timor-Leste\": \"East Timor\",\n",
    "    \"US\": \"United States\",\n",
    "}\n",
    "\n",
    "DATA = []\n",
    "\n",
    "ndays = None\n",
    "ncountries = None\n",
    "\n",
    "for stat, df in CSV.items():\n",
    "\n",
    "    # remove useless rows if present\n",
    "    if len({\"Lat\", \"Long\", \"Province/State\"} - set(df.columns)) == 0:\n",
    "        del (\n",
    "            df[\"Lat\"],\n",
    "            df[\"Long\"],\n",
    "            df[\"Province/State\"],\n",
    "        )\n",
    "\n",
    "    # rename some countries\n",
    "    for orig, new in RENAME.items():\n",
    "        df.loc[df[\"Country/Region\"] == orig, \"Country/Region\"] = new\n",
    "\n",
    "    # sum up all provinces and transpose\n",
    "    df = df.groupby(\"Country/Region\").sum().T\n",
    "\n",
    "    # rename columns\n",
    "    df.columns.name = \"Country\"\n",
    "    ncountries = len(df.columns)\n",
    "\n",
    "    # remove non countires\n",
    "    if len({\"Diamond Princess\", \"Holy See\", \"MS Zaandam\"} - set(df.columns)) == 0:\n",
    "        del (\n",
    "            df[\"Diamond Princess\"],\n",
    "            df[\"Holy See\"],\n",
    "            df[\"MS Zaandam\"],\n",
    "        )\n",
    "\n",
    "    # Add cum days\n",
    "    df[\"Days\"] = np.arange(1, len(df) + 1)\n",
    "    ndays = len(df)\n",
    "\n",
    "    # add Stat type Column\n",
    "    df[\"StatType\"] = stat\n",
    "\n",
    "    # merge all into one df\n",
    "    DATA.append(df)\n",
    "\n",
    "DATA = pd.concat(DATA)"
   ]
  },
  {
   "cell_type": "code",
   "execution_count": 13,
   "metadata": {
    "scrolled": true
   },
   "outputs": [
    {
     "data": {
      "text/html": [
       "<div>\n",
       "<style scoped>\n",
       "    .dataframe tbody tr th:only-of-type {\n",
       "        vertical-align: middle;\n",
       "    }\n",
       "\n",
       "    .dataframe tbody tr th {\n",
       "        vertical-align: top;\n",
       "    }\n",
       "\n",
       "    .dataframe thead th {\n",
       "        text-align: right;\n",
       "    }\n",
       "</style>\n",
       "<table border=\"1\" class=\"dataframe\">\n",
       "  <thead>\n",
       "    <tr style=\"text-align: right;\">\n",
       "      <th>Country</th>\n",
       "      <th>Afghanistan</th>\n",
       "      <th>Albania</th>\n",
       "      <th>Algeria</th>\n",
       "      <th>Andorra</th>\n",
       "      <th>Angola</th>\n",
       "      <th>Antigua and Barbuda</th>\n",
       "      <th>Argentina</th>\n",
       "      <th>Armenia</th>\n",
       "      <th>Australia</th>\n",
       "      <th>Austria</th>\n",
       "      <th>...</th>\n",
       "      <th>Uzbekistan</th>\n",
       "      <th>Venezuela</th>\n",
       "      <th>Vietnam</th>\n",
       "      <th>West Bank and Gaza</th>\n",
       "      <th>Western Sahara</th>\n",
       "      <th>Yemen</th>\n",
       "      <th>Zambia</th>\n",
       "      <th>Zimbabwe</th>\n",
       "      <th>Days</th>\n",
       "      <th>StatType</th>\n",
       "    </tr>\n",
       "  </thead>\n",
       "  <tbody>\n",
       "    <tr>\n",
       "      <th>3/31/20</th>\n",
       "      <td>174</td>\n",
       "      <td>243</td>\n",
       "      <td>716</td>\n",
       "      <td>376</td>\n",
       "      <td>7</td>\n",
       "      <td>7</td>\n",
       "      <td>1054</td>\n",
       "      <td>532</td>\n",
       "      <td>4559</td>\n",
       "      <td>10180</td>\n",
       "      <td>...</td>\n",
       "      <td>172</td>\n",
       "      <td>135</td>\n",
       "      <td>212</td>\n",
       "      <td>119</td>\n",
       "      <td>0</td>\n",
       "      <td>0</td>\n",
       "      <td>35</td>\n",
       "      <td>8</td>\n",
       "      <td>70</td>\n",
       "      <td>confirmed</td>\n",
       "    </tr>\n",
       "    <tr>\n",
       "      <th>2/23/20</th>\n",
       "      <td>0</td>\n",
       "      <td>0</td>\n",
       "      <td>0</td>\n",
       "      <td>0</td>\n",
       "      <td>0</td>\n",
       "      <td>0</td>\n",
       "      <td>0</td>\n",
       "      <td>0</td>\n",
       "      <td>15</td>\n",
       "      <td>0</td>\n",
       "      <td>...</td>\n",
       "      <td>0</td>\n",
       "      <td>0</td>\n",
       "      <td>16</td>\n",
       "      <td>0</td>\n",
       "      <td>0</td>\n",
       "      <td>0</td>\n",
       "      <td>0</td>\n",
       "      <td>0</td>\n",
       "      <td>33</td>\n",
       "      <td>confirmed</td>\n",
       "    </tr>\n",
       "    <tr>\n",
       "      <th>4/11/20</th>\n",
       "      <td>18</td>\n",
       "      <td>23</td>\n",
       "      <td>275</td>\n",
       "      <td>26</td>\n",
       "      <td>2</td>\n",
       "      <td>2</td>\n",
       "      <td>83</td>\n",
       "      <td>13</td>\n",
       "      <td>57</td>\n",
       "      <td>337</td>\n",
       "      <td>...</td>\n",
       "      <td>4</td>\n",
       "      <td>9</td>\n",
       "      <td>0</td>\n",
       "      <td>2</td>\n",
       "      <td>0</td>\n",
       "      <td>0</td>\n",
       "      <td>2</td>\n",
       "      <td>3</td>\n",
       "      <td>81</td>\n",
       "      <td>deaths</td>\n",
       "    </tr>\n",
       "    <tr>\n",
       "      <th>4/7/20</th>\n",
       "      <td>423</td>\n",
       "      <td>383</td>\n",
       "      <td>1468</td>\n",
       "      <td>545</td>\n",
       "      <td>17</td>\n",
       "      <td>19</td>\n",
       "      <td>1628</td>\n",
       "      <td>853</td>\n",
       "      <td>5895</td>\n",
       "      <td>12639</td>\n",
       "      <td>...</td>\n",
       "      <td>520</td>\n",
       "      <td>165</td>\n",
       "      <td>249</td>\n",
       "      <td>261</td>\n",
       "      <td>4</td>\n",
       "      <td>0</td>\n",
       "      <td>39</td>\n",
       "      <td>11</td>\n",
       "      <td>77</td>\n",
       "      <td>confirmed</td>\n",
       "    </tr>\n",
       "    <tr>\n",
       "      <th>3/5/20</th>\n",
       "      <td>1</td>\n",
       "      <td>0</td>\n",
       "      <td>12</td>\n",
       "      <td>1</td>\n",
       "      <td>0</td>\n",
       "      <td>0</td>\n",
       "      <td>1</td>\n",
       "      <td>1</td>\n",
       "      <td>55</td>\n",
       "      <td>41</td>\n",
       "      <td>...</td>\n",
       "      <td>0</td>\n",
       "      <td>0</td>\n",
       "      <td>16</td>\n",
       "      <td>4</td>\n",
       "      <td>0</td>\n",
       "      <td>0</td>\n",
       "      <td>0</td>\n",
       "      <td>0</td>\n",
       "      <td>44</td>\n",
       "      <td>confirmed</td>\n",
       "    </tr>\n",
       "  </tbody>\n",
       "</table>\n",
       "<p>5 rows × 184 columns</p>\n",
       "</div>"
      ],
      "text/plain": [
       "Country  Afghanistan  Albania  Algeria  Andorra  Angola  Antigua and Barbuda  \\\n",
       "3/31/20          174      243      716      376       7                    7   \n",
       "2/23/20            0        0        0        0       0                    0   \n",
       "4/11/20           18       23      275       26       2                    2   \n",
       "4/7/20           423      383     1468      545      17                   19   \n",
       "3/5/20             1        0       12        1       0                    0   \n",
       "\n",
       "Country  Argentina  Armenia  Australia  Austria  ...  Uzbekistan  Venezuela  \\\n",
       "3/31/20       1054      532       4559    10180  ...         172        135   \n",
       "2/23/20          0        0         15        0  ...           0          0   \n",
       "4/11/20         83       13         57      337  ...           4          9   \n",
       "4/7/20        1628      853       5895    12639  ...         520        165   \n",
       "3/5/20           1        1         55       41  ...           0          0   \n",
       "\n",
       "Country  Vietnam  West Bank and Gaza  Western Sahara  Yemen  Zambia  Zimbabwe  \\\n",
       "3/31/20      212                 119               0      0      35         8   \n",
       "2/23/20       16                   0               0      0       0         0   \n",
       "4/11/20        0                   2               0      0       2         3   \n",
       "4/7/20       249                 261               4      0      39        11   \n",
       "3/5/20        16                   4               0      0       0         0   \n",
       "\n",
       "Country  Days   StatType  \n",
       "3/31/20    70  confirmed  \n",
       "2/23/20    33  confirmed  \n",
       "4/11/20    81     deaths  \n",
       "4/7/20     77  confirmed  \n",
       "3/5/20     44  confirmed  \n",
       "\n",
       "[5 rows x 184 columns]"
      ]
     },
     "execution_count": 13,
     "metadata": {},
     "output_type": "execute_result"
    }
   ],
   "source": [
    "DATA.sample(5)"
   ]
  },
  {
   "cell_type": "code",
   "execution_count": null,
   "metadata": {},
   "outputs": [],
   "source": []
  },
  {
   "cell_type": "code",
   "execution_count": 14,
   "metadata": {},
   "outputs": [],
   "source": [
    "data = DATA.melt(id_vars=[\"Days\", \"StatType\"], value_name=\"NumCases\")"
   ]
  },
  {
   "cell_type": "code",
   "execution_count": 15,
   "metadata": {},
   "outputs": [
    {
     "data": {
      "text/html": [
       "<div>\n",
       "<style scoped>\n",
       "    .dataframe tbody tr th:only-of-type {\n",
       "        vertical-align: middle;\n",
       "    }\n",
       "\n",
       "    .dataframe tbody tr th {\n",
       "        vertical-align: top;\n",
       "    }\n",
       "\n",
       "    .dataframe thead th {\n",
       "        text-align: right;\n",
       "    }\n",
       "</style>\n",
       "<table border=\"1\" class=\"dataframe\">\n",
       "  <thead>\n",
       "    <tr style=\"text-align: right;\">\n",
       "      <th></th>\n",
       "      <th>Days</th>\n",
       "      <th>StatType</th>\n",
       "      <th>Country</th>\n",
       "      <th>NumCases</th>\n",
       "    </tr>\n",
       "  </thead>\n",
       "  <tbody>\n",
       "    <tr>\n",
       "      <th>51172</th>\n",
       "      <td>54</td>\n",
       "      <td>recovered</td>\n",
       "      <td>Venezuela</td>\n",
       "      <td>0</td>\n",
       "    </tr>\n",
       "    <tr>\n",
       "      <th>44113</th>\n",
       "      <td>76</td>\n",
       "      <td>deaths</td>\n",
       "      <td>South Korea</td>\n",
       "      <td>186</td>\n",
       "    </tr>\n",
       "    <tr>\n",
       "      <th>28177</th>\n",
       "      <td>48</td>\n",
       "      <td>recovered</td>\n",
       "      <td>Lithuania</td>\n",
       "      <td>0</td>\n",
       "    </tr>\n",
       "    <tr>\n",
       "      <th>18464</th>\n",
       "      <td>35</td>\n",
       "      <td>deaths</td>\n",
       "      <td>Ghana</td>\n",
       "      <td>0</td>\n",
       "    </tr>\n",
       "    <tr>\n",
       "      <th>32077</th>\n",
       "      <td>68</td>\n",
       "      <td>confirmed</td>\n",
       "      <td>Montenegro</td>\n",
       "      <td>85</td>\n",
       "    </tr>\n",
       "  </tbody>\n",
       "</table>\n",
       "</div>"
      ],
      "text/plain": [
       "       Days   StatType      Country  NumCases\n",
       "51172    54  recovered    Venezuela         0\n",
       "44113    76     deaths  South Korea       186\n",
       "28177    48  recovered    Lithuania         0\n",
       "18464    35     deaths        Ghana         0\n",
       "32077    68  confirmed   Montenegro        85"
      ]
     },
     "execution_count": 15,
     "metadata": {},
     "output_type": "execute_result"
    }
   ],
   "source": [
    "data.sample(5)"
   ]
  },
  {
   "cell_type": "markdown",
   "metadata": {},
   "source": [
    "# Select Countries and Stats of Interest"
   ]
  },
  {
   "cell_type": "code",
   "execution_count": 16,
   "metadata": {},
   "outputs": [],
   "source": [
    "Countries = [\n",
    "    \"Spain\",\n",
    "    \"Netherlands\",\n",
    "    \"Italy\",\n",
    "    \"South Korea\",\n",
    "    \"Germany\",\n",
    "    \"Uzbekistan\",\n",
    "    \"United States\",\n",
    "#     \"Malaysia\",\n",
    "    \"Russia\",\n",
    "#     \"Kazakhstan\",\n",
    "    \"South Korea\",\n",
    "    \"Japan\",\n",
    "    \"Norway\",\n",
    "    \"New Zealand\",\n",
    "    \"Australia\",\n",
    "    \"France\",\n",
    "#     \"Thailand\",\n",
    "#     \"Vietnam\",\n",
    "    \"United Kingdom\",\n",
    "    \"China\",\n",
    "#     \"Venezuela\",\n",
    "    \"Singapore\",\n",
    "    \"Hong Kong\",\n",
    "    \"South Africa\"\n",
    "]\n",
    "StatType = [\"confirmed\", \"deaths\", \"recovered\"]"
   ]
  },
  {
   "cell_type": "code",
   "execution_count": 17,
   "metadata": {},
   "outputs": [],
   "source": [
    "# Sort acording to # cases\n",
    "\n",
    "_latest = data.groupby(\"Country\").max()[[\"NumCases\"]]\n",
    "Countries = (\n",
    "    _latest[_latest.index.isin(Countries)]\n",
    "    .sort_values(\"NumCases\", ascending=False)\n",
    "    .index.values\n",
    ")"
   ]
  },
  {
   "cell_type": "code",
   "execution_count": 18,
   "metadata": {},
   "outputs": [],
   "source": [
    "D = data[data[\"Country\"].isin(Countries)]"
   ]
  },
  {
   "cell_type": "code",
   "execution_count": 19,
   "metadata": {},
   "outputs": [],
   "source": [
    "selection = alt.selection_multi(fields=[\"Country\"], bind=\"legend\")\n",
    "highlight = alt.selection_multi(on=\"mouseover\", fields=[\"Country\"], nearest=True)"
   ]
  },
  {
   "cell_type": "code",
   "execution_count": 20,
   "metadata": {},
   "outputs": [
    {
     "data": {
      "text/html": [
       "\n",
       "<div id=\"altair-viz-89db8eb2105148ff9b4a7d30dbb2d46e\"></div>\n",
       "<script type=\"text/javascript\">\n",
       "  (function(spec, embedOpt){\n",
       "    let outputDiv = document.currentScript.previousElementSibling;\n",
       "    if (outputDiv.id !== \"altair-viz-89db8eb2105148ff9b4a7d30dbb2d46e\") {\n",
       "      outputDiv = document.getElementById(\"altair-viz-89db8eb2105148ff9b4a7d30dbb2d46e\");\n",
       "    }\n",
       "    const paths = {\n",
       "      \"vega\": \"https://cdn.jsdelivr.net/npm//vega@5?noext\",\n",
       "      \"vega-lib\": \"https://cdn.jsdelivr.net/npm//vega-lib?noext\",\n",
       "      \"vega-lite\": \"https://cdn.jsdelivr.net/npm//vega-lite@4.8.1?noext\",\n",
       "      \"vega-embed\": \"https://cdn.jsdelivr.net/npm//vega-embed@6?noext\",\n",
       "    };\n",
       "\n",
       "    function loadScript(lib) {\n",
       "      return new Promise(function(resolve, reject) {\n",
       "        var s = document.createElement('script');\n",
       "        s.src = paths[lib];\n",
       "        s.async = true;\n",
       "        s.onload = () => resolve(paths[lib]);\n",
       "        s.onerror = () => reject(`Error loading script: ${paths[lib]}`);\n",
       "        document.getElementsByTagName(\"head\")[0].appendChild(s);\n",
       "      });\n",
       "    }\n",
       "\n",
       "    function showError(err) {\n",
       "      outputDiv.innerHTML = `<div class=\"error\" style=\"color:red;\">${err}</div>`;\n",
       "      throw err;\n",
       "    }\n",
       "\n",
       "    function displayChart(vegaEmbed) {\n",
       "      vegaEmbed(outputDiv, spec, embedOpt)\n",
       "        .catch(err => showError(`Javascript Error: ${err.message}<br>This usually means there's a typo in your chart specification. See the javascript console for the full traceback.`));\n",
       "    }\n",
       "\n",
       "    if(typeof define === \"function\" && define.amd) {\n",
       "      requirejs.config({paths});\n",
       "      require([\"vega-embed\"], displayChart, err => showError(`Error loading script: ${err.message}`));\n",
       "    } else if (typeof vegaEmbed === \"function\") {\n",
       "      displayChart(vegaEmbed);\n",
       "    } else {\n",
       "      loadScript(\"vega\")\n",
       "        .then(() => loadScript(\"vega-lite\"))\n",
       "        .then(() => loadScript(\"vega-embed\"))\n",
       "        .catch(showError)\n",
       "        .then(() => displayChart(vegaEmbed));\n",
       "    }\n",
       "  })({\"config\": {\"view\": {\"continuousWidth\": 400, \"continuousHeight\": 300}}, \"layer\": [{\"mark\": \"circle\", \"encoding\": {\"color\": {\"type\": \"nominal\", \"field\": \"Country\"}, \"opacity\": {\"value\": 0}, \"x\": {\"type\": \"quantitative\", \"field\": \"Days\"}, \"y\": {\"type\": \"quantitative\", \"field\": \"NumCases\", \"scale\": {\"type\": \"symlog\"}}}, \"selection\": {\"selector002\": {\"type\": \"multi\", \"on\": \"mouseover\", \"fields\": [\"Country\"], \"nearest\": true}}, \"transform\": [{\"filter\": {\"equal\": \"confirmed\", \"field\": \"StatType\"}}]}, {\"mark\": \"line\", \"encoding\": {\"color\": {\"type\": \"nominal\", \"field\": \"Country\"}, \"opacity\": {\"condition\": {\"value\": 1, \"selection\": \"selector002\"}, \"value\": 0.3}, \"size\": {\"condition\": {\"value\": 1, \"selection\": {\"not\": \"selector002\"}}, \"value\": 3}, \"x\": {\"type\": \"quantitative\", \"field\": \"Days\"}, \"y\": {\"type\": \"quantitative\", \"field\": \"NumCases\", \"scale\": {\"type\": \"symlog\"}}}, \"transform\": [{\"filter\": {\"equal\": \"confirmed\", \"field\": \"StatType\"}}]}], \"data\": {\"url\": \"altair-data-d18e5b49bb66dba156401fcfa4608e91.json\", \"format\": {\"type\": \"json\"}}, \"$schema\": \"https://vega.github.io/schema/vega-lite/v4.8.1.json\"}, {\"mode\": \"vega-lite\"});\n",
       "</script>"
      ],
      "text/plain": [
       "alt.LayerChart(...)"
      ]
     },
     "execution_count": 20,
     "metadata": {},
     "output_type": "execute_result"
    }
   ],
   "source": [
    "base = (\n",
    "    alt.Chart(D)\n",
    "    .transform_filter(alt.FieldEqualPredicate(field=\"StatType\", equal=\"confirmed\"))\n",
    "    .encode(\n",
    "        alt.X(\"Days:Q\"),\n",
    "        alt.Y(\"NumCases:Q\", scale=alt.Scale(type=\"symlog\")),\n",
    "        color=\"Country:N\",\n",
    "    )\n",
    ")\n",
    "\n",
    "points = base.mark_circle().encode(opacity=alt.value(0)).properties(selection=highlight)\n",
    "\n",
    "lines = base.mark_line().encode(\n",
    "    size=alt.condition(~highlight, alt.value(1), alt.value(3)),\n",
    "    opacity=alt.condition(highlight, alt.value(1), alt.value(0.3)),\n",
    ")\n",
    "\n",
    "points + lines"
   ]
  },
  {
   "cell_type": "code",
   "execution_count": 21,
   "metadata": {},
   "outputs": [],
   "source": [
    "DERIV = data.copy()\n",
    "\n",
    "grad = np.gradient(\n",
    "    data[\"NumCases\"].values.reshape(ndays, len(data) // ndays), axis=1\n",
    ").reshape(len(data))\n",
    "grad[grad < 0] = np.nan\n",
    "\n",
    "DERIV.loc[:, \"∂NumCases\"] = grad\n",
    "\n",
    "DE = DERIV[DERIV[\"Country\"].isin(Countries)]"
   ]
  },
  {
   "cell_type": "code",
   "execution_count": 22,
   "metadata": {
    "scrolled": false
   },
   "outputs": [
    {
     "data": {
      "text/html": [
       "\n",
       "<div id=\"altair-viz-a3dde2214bec4b4384ae33fa550aa395\"></div>\n",
       "<script type=\"text/javascript\">\n",
       "  (function(spec, embedOpt){\n",
       "    let outputDiv = document.currentScript.previousElementSibling;\n",
       "    if (outputDiv.id !== \"altair-viz-a3dde2214bec4b4384ae33fa550aa395\") {\n",
       "      outputDiv = document.getElementById(\"altair-viz-a3dde2214bec4b4384ae33fa550aa395\");\n",
       "    }\n",
       "    const paths = {\n",
       "      \"vega\": \"https://cdn.jsdelivr.net/npm//vega@5?noext\",\n",
       "      \"vega-lib\": \"https://cdn.jsdelivr.net/npm//vega-lib?noext\",\n",
       "      \"vega-lite\": \"https://cdn.jsdelivr.net/npm//vega-lite@4.8.1?noext\",\n",
       "      \"vega-embed\": \"https://cdn.jsdelivr.net/npm//vega-embed@6?noext\",\n",
       "    };\n",
       "\n",
       "    function loadScript(lib) {\n",
       "      return new Promise(function(resolve, reject) {\n",
       "        var s = document.createElement('script');\n",
       "        s.src = paths[lib];\n",
       "        s.async = true;\n",
       "        s.onload = () => resolve(paths[lib]);\n",
       "        s.onerror = () => reject(`Error loading script: ${paths[lib]}`);\n",
       "        document.getElementsByTagName(\"head\")[0].appendChild(s);\n",
       "      });\n",
       "    }\n",
       "\n",
       "    function showError(err) {\n",
       "      outputDiv.innerHTML = `<div class=\"error\" style=\"color:red;\">${err}</div>`;\n",
       "      throw err;\n",
       "    }\n",
       "\n",
       "    function displayChart(vegaEmbed) {\n",
       "      vegaEmbed(outputDiv, spec, embedOpt)\n",
       "        .catch(err => showError(`Javascript Error: ${err.message}<br>This usually means there's a typo in your chart specification. See the javascript console for the full traceback.`));\n",
       "    }\n",
       "\n",
       "    if(typeof define === \"function\" && define.amd) {\n",
       "      requirejs.config({paths});\n",
       "      require([\"vega-embed\"], displayChart, err => showError(`Error loading script: ${err.message}`));\n",
       "    } else if (typeof vegaEmbed === \"function\") {\n",
       "      displayChart(vegaEmbed);\n",
       "    } else {\n",
       "      loadScript(\"vega\")\n",
       "        .then(() => loadScript(\"vega-lite\"))\n",
       "        .then(() => loadScript(\"vega-embed\"))\n",
       "        .catch(showError)\n",
       "        .then(() => displayChart(vegaEmbed));\n",
       "    }\n",
       "  })({\"config\": {\"view\": {\"continuousWidth\": 400, \"continuousHeight\": 300}}, \"data\": {\"url\": \"altair-data-7f0592d5ab52f642691084c8f8327363.json\", \"format\": {\"type\": \"json\"}}, \"mark\": \"line\", \"encoding\": {\"color\": {\"type\": \"nominal\", \"field\": \"Country\", \"sort\": [\"United States\", \"Spain\", \"Italy\", \"France\", \"Germany\", \"United Kingdom\", \"Russia\", \"China\", \"Netherlands\", \"Singapore\", \"Japan\", \"South Korea\", \"Norway\", \"Australia\", \"South Africa\", \"Uzbekistan\", \"New Zealand\"]}, \"opacity\": {\"condition\": {\"value\": 1, \"selection\": \"selector001\"}, \"value\": 0.2}, \"order\": {\"type\": \"quantitative\", \"field\": \"Days\"}, \"row\": {\"type\": \"nominal\", \"field\": \"StatType\"}, \"x\": {\"type\": \"quantitative\", \"field\": \"Days\"}, \"y\": {\"type\": \"quantitative\", \"field\": \"\\u2202NumCases\", \"scale\": {\"type\": \"symlog\"}}}, \"selection\": {\"selector001\": {\"type\": \"multi\", \"fields\": [\"Country\"], \"bind\": \"legend\"}}, \"$schema\": \"https://vega.github.io/schema/vega-lite/v4.8.1.json\"}, {\"mode\": \"vega-lite\"});\n",
       "</script>"
      ],
      "text/plain": [
       "alt.Chart(...)"
      ]
     },
     "execution_count": 22,
     "metadata": {},
     "output_type": "execute_result"
    }
   ],
   "source": [
    "alt.Chart(DE).mark_line().encode(\n",
    "    alt.X(\"Days:Q\"),\n",
    "    alt.Y(\"∂NumCases:Q\", scale=alt.Scale(type=\"symlog\")),\n",
    "    color=alt.Color(\"Country\", sort=Countries),\n",
    "    opacity=alt.condition(selection, alt.value(1), alt.value(0.2)),\n",
    "    row=\"StatType\",\n",
    "    order=\"Days\",\n",
    ").add_selection(selection)"
   ]
  },
  {
   "cell_type": "code",
   "execution_count": 23,
   "metadata": {
    "scrolled": true
   },
   "outputs": [
    {
     "data": {
      "text/html": [
       "\n",
       "<div id=\"altair-viz-c85f7ddaeddf4324b80b00a8788ab1c7\"></div>\n",
       "<script type=\"text/javascript\">\n",
       "  (function(spec, embedOpt){\n",
       "    let outputDiv = document.currentScript.previousElementSibling;\n",
       "    if (outputDiv.id !== \"altair-viz-c85f7ddaeddf4324b80b00a8788ab1c7\") {\n",
       "      outputDiv = document.getElementById(\"altair-viz-c85f7ddaeddf4324b80b00a8788ab1c7\");\n",
       "    }\n",
       "    const paths = {\n",
       "      \"vega\": \"https://cdn.jsdelivr.net/npm//vega@5?noext\",\n",
       "      \"vega-lib\": \"https://cdn.jsdelivr.net/npm//vega-lib?noext\",\n",
       "      \"vega-lite\": \"https://cdn.jsdelivr.net/npm//vega-lite@4.8.1?noext\",\n",
       "      \"vega-embed\": \"https://cdn.jsdelivr.net/npm//vega-embed@6?noext\",\n",
       "    };\n",
       "\n",
       "    function loadScript(lib) {\n",
       "      return new Promise(function(resolve, reject) {\n",
       "        var s = document.createElement('script');\n",
       "        s.src = paths[lib];\n",
       "        s.async = true;\n",
       "        s.onload = () => resolve(paths[lib]);\n",
       "        s.onerror = () => reject(`Error loading script: ${paths[lib]}`);\n",
       "        document.getElementsByTagName(\"head\")[0].appendChild(s);\n",
       "      });\n",
       "    }\n",
       "\n",
       "    function showError(err) {\n",
       "      outputDiv.innerHTML = `<div class=\"error\" style=\"color:red;\">${err}</div>`;\n",
       "      throw err;\n",
       "    }\n",
       "\n",
       "    function displayChart(vegaEmbed) {\n",
       "      vegaEmbed(outputDiv, spec, embedOpt)\n",
       "        .catch(err => showError(`Javascript Error: ${err.message}<br>This usually means there's a typo in your chart specification. See the javascript console for the full traceback.`));\n",
       "    }\n",
       "\n",
       "    if(typeof define === \"function\" && define.amd) {\n",
       "      requirejs.config({paths});\n",
       "      require([\"vega-embed\"], displayChart, err => showError(`Error loading script: ${err.message}`));\n",
       "    } else if (typeof vegaEmbed === \"function\") {\n",
       "      displayChart(vegaEmbed);\n",
       "    } else {\n",
       "      loadScript(\"vega\")\n",
       "        .then(() => loadScript(\"vega-lite\"))\n",
       "        .then(() => loadScript(\"vega-embed\"))\n",
       "        .catch(showError)\n",
       "        .then(() => displayChart(vegaEmbed));\n",
       "    }\n",
       "  })({\"config\": {\"view\": {\"continuousWidth\": 400, \"continuousHeight\": 300}}, \"data\": {\"url\": \"altair-data-7f0592d5ab52f642691084c8f8327363.json\", \"format\": {\"type\": \"json\"}}, \"mark\": \"line\", \"encoding\": {\"color\": {\"type\": \"nominal\", \"field\": \"Country\", \"sort\": [\"United States\", \"Spain\", \"Italy\", \"France\", \"Germany\", \"United Kingdom\", \"Russia\", \"China\", \"Netherlands\", \"Singapore\", \"Japan\", \"South Korea\", \"Norway\", \"Australia\", \"South Africa\", \"Uzbekistan\", \"New Zealand\"]}, \"opacity\": {\"condition\": {\"value\": 1, \"selection\": \"selector003\"}, \"value\": 0.2}, \"order\": {\"type\": \"quantitative\", \"field\": \"Days\"}, \"size\": {\"condition\": {\"value\": 2, \"selection\": \"selector003\"}, \"value\": 1}, \"tooltip\": {\"type\": \"quantitative\", \"field\": \"NumCases\"}, \"x\": {\"type\": \"quantitative\", \"field\": \"NumCases\", \"scale\": {\"type\": \"symlog\"}}, \"y\": {\"type\": \"quantitative\", \"field\": \"\\u2202NumCases\", \"scale\": {\"type\": \"symlog\"}}}, \"selection\": {\"selector003\": {\"type\": \"single\", \"bind\": \"legend\", \"fields\": [\"Country\"], \"empty\": \"none\"}}, \"transform\": [{\"filter\": \"datum.StatType == 'confirmed'\"}], \"$schema\": \"https://vega.github.io/schema/vega-lite/v4.8.1.json\"}, {\"mode\": \"vega-lite\"});\n",
       "</script>"
      ],
      "text/plain": [
       "alt.Chart(...)"
      ]
     },
     "execution_count": 23,
     "metadata": {},
     "output_type": "execute_result"
    }
   ],
   "source": [
    "selection = alt.selection_single(bind=\"legend\", fields=[\"Country\"], empty=\"none\")\n",
    "\n",
    "base = alt.Chart(DE).transform_filter(\"datum.StatType == 'confirmed'\")\n",
    "\n",
    "chart = (\n",
    "    base.mark_line()\n",
    "    .encode(\n",
    "        alt.X(\"NumCases:Q\", scale=alt.Scale(type=\"symlog\")),\n",
    "        alt.Y(\"∂NumCases:Q\", scale=alt.Scale(type=\"symlog\")),\n",
    "        color=alt.Color(\"Country\", sort=Countries),\n",
    "        opacity=alt.condition(selection, alt.value(1), alt.value(0.2)),\n",
    "        size=alt.condition(selection, alt.value(2), alt.value(1)),\n",
    "        #     row=\"StatType\",\n",
    "        order=\"Days\",\n",
    "        tooltip=\"NumCases\",\n",
    "    )\n",
    "    .add_selection(selection)\n",
    ")\n",
    "\n",
    "chart"
   ]
  },
  {
   "cell_type": "code",
   "execution_count": 24,
   "metadata": {},
   "outputs": [
    {
     "data": {
      "text/html": [
       "\n",
       "<div id=\"altair-viz-4499f060847640e2a6f20c3437a1620a\"></div>\n",
       "<script type=\"text/javascript\">\n",
       "  (function(spec, embedOpt){\n",
       "    let outputDiv = document.currentScript.previousElementSibling;\n",
       "    if (outputDiv.id !== \"altair-viz-4499f060847640e2a6f20c3437a1620a\") {\n",
       "      outputDiv = document.getElementById(\"altair-viz-4499f060847640e2a6f20c3437a1620a\");\n",
       "    }\n",
       "    const paths = {\n",
       "      \"vega\": \"https://cdn.jsdelivr.net/npm//vega@5?noext\",\n",
       "      \"vega-lib\": \"https://cdn.jsdelivr.net/npm//vega-lib?noext\",\n",
       "      \"vega-lite\": \"https://cdn.jsdelivr.net/npm//vega-lite@4.8.1?noext\",\n",
       "      \"vega-embed\": \"https://cdn.jsdelivr.net/npm//vega-embed@6?noext\",\n",
       "    };\n",
       "\n",
       "    function loadScript(lib) {\n",
       "      return new Promise(function(resolve, reject) {\n",
       "        var s = document.createElement('script');\n",
       "        s.src = paths[lib];\n",
       "        s.async = true;\n",
       "        s.onload = () => resolve(paths[lib]);\n",
       "        s.onerror = () => reject(`Error loading script: ${paths[lib]}`);\n",
       "        document.getElementsByTagName(\"head\")[0].appendChild(s);\n",
       "      });\n",
       "    }\n",
       "\n",
       "    function showError(err) {\n",
       "      outputDiv.innerHTML = `<div class=\"error\" style=\"color:red;\">${err}</div>`;\n",
       "      throw err;\n",
       "    }\n",
       "\n",
       "    function displayChart(vegaEmbed) {\n",
       "      vegaEmbed(outputDiv, spec, embedOpt)\n",
       "        .catch(err => showError(`Javascript Error: ${err.message}<br>This usually means there's a typo in your chart specification. See the javascript console for the full traceback.`));\n",
       "    }\n",
       "\n",
       "    if(typeof define === \"function\" && define.amd) {\n",
       "      requirejs.config({paths});\n",
       "      require([\"vega-embed\"], displayChart, err => showError(`Error loading script: ${err.message}`));\n",
       "    } else if (typeof vegaEmbed === \"function\") {\n",
       "      displayChart(vegaEmbed);\n",
       "    } else {\n",
       "      loadScript(\"vega\")\n",
       "        .then(() => loadScript(\"vega-lite\"))\n",
       "        .then(() => loadScript(\"vega-embed\"))\n",
       "        .catch(showError)\n",
       "        .then(() => displayChart(vegaEmbed));\n",
       "    }\n",
       "  })({\"config\": {\"view\": {\"continuousWidth\": 400, \"continuousHeight\": 300}}, \"vconcat\": [{\"hconcat\": [{\"mark\": \"line\", \"encoding\": {\"color\": {\"type\": \"nominal\", \"field\": \"Country\", \"sort\": [\"United States\", \"Spain\", \"Italy\", \"France\", \"Germany\", \"United Kingdom\", \"Russia\", \"China\", \"Netherlands\", \"Singapore\", \"Japan\", \"South Korea\", \"Norway\", \"Australia\", \"South Africa\", \"Uzbekistan\", \"New Zealand\"]}, \"opacity\": {\"condition\": {\"value\": 1, \"selection\": \"selector004\"}, \"value\": 0.2}, \"order\": {\"type\": \"quantitative\", \"field\": \"Days\"}, \"x\": {\"type\": \"quantitative\", \"field\": \"Days\"}, \"y\": {\"type\": \"quantitative\", \"field\": \"\\u2202NumCases\", \"scale\": {\"type\": \"symlog\"}}}, \"height\": 250, \"selection\": {\"selector004\": {\"type\": \"multi\", \"bind\": \"legend\", \"fields\": [\"Country\"], \"empty\": \"none\"}}, \"transform\": [{\"filter\": \"datum.StatType == 'confirmed'\"}], \"width\": 250}, {\"mark\": \"line\", \"encoding\": {\"color\": {\"type\": \"nominal\", \"field\": \"Country\", \"sort\": [\"United States\", \"Spain\", \"Italy\", \"France\", \"Germany\", \"United Kingdom\", \"Russia\", \"China\", \"Netherlands\", \"Singapore\", \"Japan\", \"South Korea\", \"Norway\", \"Australia\", \"South Africa\", \"Uzbekistan\", \"New Zealand\"]}, \"opacity\": {\"condition\": {\"value\": 1, \"selection\": \"selector004\"}, \"value\": 0.2}, \"order\": {\"type\": \"quantitative\", \"field\": \"Days\"}, \"x\": {\"type\": \"quantitative\", \"field\": \"NumCases\", \"scale\": {\"type\": \"symlog\"}}, \"y\": {\"type\": \"quantitative\", \"field\": \"\\u2202NumCases\", \"scale\": {\"type\": \"symlog\"}}}, \"height\": 250, \"selection\": {\"selector004\": {\"type\": \"multi\", \"bind\": \"legend\", \"fields\": [\"Country\"], \"empty\": \"none\"}}, \"transform\": [{\"filter\": \"datum.StatType == 'confirmed'\"}], \"width\": 250}], \"title\": \"Confirmed\"}, {\"hconcat\": [{\"mark\": \"line\", \"encoding\": {\"color\": {\"type\": \"nominal\", \"field\": \"Country\", \"sort\": [\"United States\", \"Spain\", \"Italy\", \"France\", \"Germany\", \"United Kingdom\", \"Russia\", \"China\", \"Netherlands\", \"Singapore\", \"Japan\", \"South Korea\", \"Norway\", \"Australia\", \"South Africa\", \"Uzbekistan\", \"New Zealand\"]}, \"opacity\": {\"condition\": {\"value\": 1, \"selection\": \"selector004\"}, \"value\": 0.2}, \"order\": {\"type\": \"quantitative\", \"field\": \"Days\"}, \"x\": {\"type\": \"quantitative\", \"field\": \"Days\"}, \"y\": {\"type\": \"quantitative\", \"field\": \"\\u2202NumCases\", \"scale\": {\"type\": \"symlog\"}}}, \"height\": 250, \"selection\": {\"selector004\": {\"type\": \"multi\", \"bind\": \"legend\", \"fields\": [\"Country\"], \"empty\": \"none\"}}, \"transform\": [{\"filter\": \"datum.StatType == 'deaths'\"}], \"width\": 250}, {\"mark\": \"line\", \"encoding\": {\"color\": {\"type\": \"nominal\", \"field\": \"Country\", \"sort\": [\"United States\", \"Spain\", \"Italy\", \"France\", \"Germany\", \"United Kingdom\", \"Russia\", \"China\", \"Netherlands\", \"Singapore\", \"Japan\", \"South Korea\", \"Norway\", \"Australia\", \"South Africa\", \"Uzbekistan\", \"New Zealand\"]}, \"opacity\": {\"condition\": {\"value\": 1, \"selection\": \"selector004\"}, \"value\": 0.2}, \"order\": {\"type\": \"quantitative\", \"field\": \"Days\"}, \"x\": {\"type\": \"quantitative\", \"field\": \"NumCases\", \"scale\": {\"type\": \"symlog\"}}, \"y\": {\"type\": \"quantitative\", \"field\": \"\\u2202NumCases\", \"scale\": {\"type\": \"symlog\"}}}, \"height\": 250, \"selection\": {\"selector004\": {\"type\": \"multi\", \"bind\": \"legend\", \"fields\": [\"Country\"], \"empty\": \"none\"}}, \"transform\": [{\"filter\": \"datum.StatType == 'deaths'\"}], \"width\": 250}], \"title\": \"Deaths\"}], \"data\": {\"url\": \"altair-data-7f0592d5ab52f642691084c8f8327363.json\", \"format\": {\"type\": \"json\"}}, \"$schema\": \"https://vega.github.io/schema/vega-lite/v4.8.1.json\"}, {\"mode\": \"vega-lite\"});\n",
       "</script>"
      ],
      "text/plain": [
       "alt.VConcatChart(...)"
      ]
     },
     "execution_count": 24,
     "metadata": {},
     "output_type": "execute_result"
    }
   ],
   "source": [
    "selection = alt.selection_multi(bind=\"legend\", fields=[\"Country\"], empty=\"none\")\n",
    "\n",
    "base = (\n",
    "    alt.Chart(DE)\n",
    "    .mark_line()\n",
    "    .encode(\n",
    "        alt.Y(\"∂NumCases:Q\", scale=alt.Scale(type=\"symlog\")),\n",
    "        color=alt.Color(\"Country\", sort=Countries),\n",
    "        opacity=alt.condition(selection, alt.value(1), alt.value(0.2)),\n",
    "        order=\"Days\",\n",
    "    )\n",
    "    .add_selection(selection)\n",
    "    .properties(width=250, height=250)\n",
    ")\n",
    "\n",
    "confirmed = base.transform_filter(\"datum.StatType == 'confirmed'\")\n",
    "deaths = base.transform_filter(\"datum.StatType == 'deaths'\")\n",
    "\n",
    "\n",
    "confvsdays = confirmed.encode(alt.X(\"Days:Q\"))\n",
    "\n",
    "confvscases = confirmed.encode(alt.X(\"NumCases:Q\", scale=alt.Scale(type=\"symlog\")))\n",
    "\n",
    "deathvsdays = deaths.encode(alt.X(\"Days:Q\"))\n",
    "\n",
    "deathvscases = deaths.encode(alt.X(\"NumCases:Q\", scale=alt.Scale(type=\"symlog\")))\n",
    "\n",
    "\n",
    "(confvsdays | confvscases).properties(title=\"Confirmed\") & (\n",
    "    deathvsdays | deathvscases\n",
    ").properties(title=\"Deaths\")"
   ]
  },
  {
   "cell_type": "code",
   "execution_count": 27,
   "metadata": {},
   "outputs": [
    {
     "ename": "SyntaxError",
     "evalue": "invalid syntax (<ipython-input-27-de016a83f3b3>, line 1)",
     "output_type": "error",
     "traceback": [
      "\u001b[0;36m  File \u001b[0;32m\"<ipython-input-27-de016a83f3b3>\"\u001b[0;36m, line \u001b[0;32m1\u001b[0m\n\u001b[0;31m    TODO all below\u001b[0m\n\u001b[0m         ^\u001b[0m\n\u001b[0;31mSyntaxError\u001b[0m\u001b[0;31m:\u001b[0m invalid syntax\n"
     ]
    }
   ],
   "source": [
    "TODO all below"
   ]
  },
  {
   "cell_type": "markdown",
   "metadata": {},
   "source": [
    "# Normalize to the total country population "
   ]
  },
  {
   "cell_type": "code",
   "execution_count": null,
   "metadata": {
    "scrolled": false
   },
   "outputs": [],
   "source": [
    "fig, axes = plt.subplots(len(StatType), figsize=(8, 8 * len(StatType)))\n",
    "\n",
    "NORM = pd.DataFrame(DATA[Countries])\n",
    "\n",
    "for i, case in enumerate(StatType):\n",
    "\n",
    "    for c in Countries:\n",
    "        xc = ((DATA[c, case] / POPULATION.loc[c, \"QTY\"]) * 100).values\n",
    "        yc = np.gradient(xc, axis=0)\n",
    "        NORM[c, case] = xc\n",
    "        NORM[c, f\"D({case})\"] = yc\n",
    "\n",
    "    X = NORM[product(Countries, [case])]\n",
    "    Y = NORM[product(Countries, [f\"D({case})\"])]\n",
    "\n",
    "    # plot\n",
    "    ax = axes[i]\n",
    "    ax.set_title(f\"{case}: ∂_% vs %population\")\n",
    "\n",
    "    ax.plot(X, Y, \"o\")\n",
    "\n",
    "    ax.set_xscale(\"log\")\n",
    "    ax.set_xlabel(\"% population\")\n",
    "\n",
    "    ax.set_yscale(\"log\")\n",
    "    ax.set_ylabel(\"∂(% population)\")\n",
    "\n",
    "    ax.legend(Countries)"
   ]
  },
  {
   "cell_type": "code",
   "execution_count": null,
   "metadata": {},
   "outputs": [],
   "source": []
  },
  {
   "cell_type": "code",
   "execution_count": null,
   "metadata": {},
   "outputs": [],
   "source": []
  },
  {
   "cell_type": "code",
   "execution_count": null,
   "metadata": {},
   "outputs": [],
   "source": [
    "# loglog per country pairs of combinations of [confirmed, deaths, recovered]\n",
    "\n",
    "combi = list(itertools.combinations(StatType, 2))\n",
    "fig, axes = plt.subplots(len(combi), figsize=(8, 8*len(combi)))\n",
    "plt.tight_layout(3)\n",
    "\n",
    "for i, (xn, yn) in enumerate(combi):\n",
    "    ax = axes[i]\n",
    "    \n",
    "    for ic, cnt in enumerate(Countries):\n",
    "        x = DATA[cnt, xn]\n",
    "        y = DATA[cnt, yn]\n",
    "        ax.plot(x, y)\n",
    "\n",
    "\n",
    "    ax.set_xlabel(xn)\n",
    "    ax.set_xscale(\"log\")\n",
    "\n",
    "    ax.set_ylabel(yn)\n",
    "    ax.set_yscale(\"log\")\n",
    "\n",
    "    ax.set_title(f\"{yn} vs {xn}\")\n",
    "    ax.legend(Countries)"
   ]
  },
  {
   "cell_type": "code",
   "execution_count": null,
   "metadata": {
    "jupyter": {
     "outputs_hidden": true
    }
   },
   "outputs": [],
   "source": [
    "# loglog country1 vs country2\n",
    "\n",
    "ncomb = int(binom(len(Countries), 2))\n",
    "fig, axes = plt.subplots(ncomb, len(StatType), figsize=(10, ncomb * 5))\n",
    "plt.tight_layout(3)\n",
    "\n",
    "for i, stat in enumerate(StatType):\n",
    "    for ic, (xn, yn) in enumerate(itertools.combinations(Countries, 2)):\n",
    "        x = DATA[xn, stat]\n",
    "        y = DATA[yn, stat]\n",
    "        ax = axes[ic, i]\n",
    "        ax.plot(x, y)\n",
    "\n",
    "        ax.set_xscale(\"log\")\n",
    "        ax.set_xlabel(xn)\n",
    "\n",
    "        ax.set_yscale(\"log\")\n",
    "        ax.set_ylabel(yn)\n",
    "\n",
    "        ax.set_title(f\"{stat}: {yn}({xn})\")"
   ]
  },
  {
   "cell_type": "code",
   "execution_count": null,
   "metadata": {},
   "outputs": [],
   "source": []
  },
  {
   "cell_type": "code",
   "execution_count": null,
   "metadata": {},
   "outputs": [],
   "source": []
  },
  {
   "cell_type": "code",
   "execution_count": null,
   "metadata": {},
   "outputs": [],
   "source": []
  },
  {
   "cell_type": "markdown",
   "metadata": {},
   "source": [
    "# WORLD"
   ]
  },
  {
   "cell_type": "code",
   "execution_count": null,
   "metadata": {},
   "outputs": [],
   "source": []
  },
  {
   "cell_type": "code",
   "execution_count": null,
   "metadata": {},
   "outputs": [],
   "source": [
    "# ln(∂_cases) vs ln_cases\n",
    "\n",
    "fig, axes = plt.subplots(len(StatType), figsize=(8, 8 * len(StatType)))\n",
    "\n",
    "for i, stat in enumerate(StatType):\n",
    "    # WORLD\n",
    "    sel = product({x[0] for x in DATA.columns}, [stat])\n",
    "    xw = DATA[sel].sum(axis=1).values\n",
    "    yw = np.gradient(xw)\n",
    "\n",
    "    # Except China\n",
    "    no_china = product({x[0] for x in DATA.columns} - {\"China\"}, [stat])\n",
    "    xnc = DATA[no_china].sum(axis=1).values\n",
    "    ync = np.gradient(xnc)\n",
    "\n",
    "    # plot\n",
    "    ax = axes[i]\n",
    "    ax.set_title(f\"{stat}: ∂_cases vs cases\")\n",
    "\n",
    "    ax.plot(xw, yw, \"-\")\n",
    "    ax.plot(xnc, ync, \".\")\n",
    "\n",
    "    ax.set_xscale(\"log\")\n",
    "    ax.set_xlabel(\"cases\")\n",
    "\n",
    "    ax.set_yscale(\"log\")\n",
    "    ax.set_ylabel(\"∂(cases)\")\n",
    "\n",
    "    ax.legend([f\"World {xw[-1]:,}\", f\"NoChina {xnc[-1]:,}\"])"
   ]
  },
  {
   "cell_type": "code",
   "execution_count": null,
   "metadata": {},
   "outputs": [],
   "source": []
  },
  {
   "cell_type": "code",
   "execution_count": null,
   "metadata": {},
   "outputs": [],
   "source": []
  },
  {
   "cell_type": "code",
   "execution_count": null,
   "metadata": {},
   "outputs": [],
   "source": []
  },
  {
   "cell_type": "code",
   "execution_count": null,
   "metadata": {},
   "outputs": [],
   "source": []
  },
  {
   "cell_type": "code",
   "execution_count": null,
   "metadata": {},
   "outputs": [],
   "source": []
  },
  {
   "cell_type": "markdown",
   "metadata": {},
   "source": [
    "# Merge Territories"
   ]
  },
  {
   "cell_type": "code",
   "execution_count": null,
   "metadata": {},
   "outputs": [],
   "source": [
    "Europe = {\n",
    "    \"Austria\",\n",
    "    \"Belgium\",\n",
    "    \"Bulgaria\",\n",
    "    \"Croatia\",\n",
    "    \"Cyprus\",\n",
    "    \"Czech Republic\",\n",
    "    \"Denmark\",\n",
    "    \"Estonia\",\n",
    "    \"Finland\",\n",
    "    \"France\",\n",
    "    \"Germany\",\n",
    "    \"Greece\",\n",
    "    \"Hungary\",\n",
    "    \"Ireland\",\n",
    "    \"Italy\",\n",
    "    \"Latvia\",\n",
    "    \"Lithuania\",\n",
    "    \"Luxembourg\",\n",
    "    \"Malta\",\n",
    "    \"Netherlands\",\n",
    "    \"Poland\",\n",
    "    \"Portugal\",\n",
    "    \"Romania\",\n",
    "    \"Slovakia\",\n",
    "    \"Slovenia\",\n",
    "    \"Spain\",\n",
    "    \"Sweden\",\n",
    "    \"Switzerland\",\n",
    "    'United Kingdom',\n",
    "}"
   ]
  },
  {
   "cell_type": "code",
   "execution_count": null,
   "metadata": {},
   "outputs": [],
   "source": [
    "Europe - {x[0] for x in DATA.columns}"
   ]
  },
  {
   "cell_type": "code",
   "execution_count": null,
   "metadata": {},
   "outputs": [],
   "source": [
    "Africa = set(\n",
    "    \"Algeria | Angola | Benin | Botswana | Burkina Faso | Burundi | Cameroon | Cape Verde | Central African Republic | Chad | Comoros | Democratic Republic of the Congo | Djibouti | Egypt | Equatorial Guinea | Eritrea | Ethiopia | Gabon | Gambia | Ghana | Guinea | Guinea-Bissau | Ivory Coast | Kenya | Lesotho | Liberia | Libya | Madagascar | Malawi | Mali | Mauritania | Mauritius | Mayotte (overseas collectivity of France) | Morocco | Mozambique | Namibia | Niger | Nigeria | Republic of the Congo | Réunion (overseas region of France) | Rwanda | Saint Helena, Ascension and Tristan da Cunha (British overseas territory) | São Tomé and Príncipe | Senegal | Seychelles | Sierra Leone | Somalia | South Africa | South Sudan | Sudan | Eswatini | Tanzania | Togo | Tunisia | Uganda | Western Sahara | Zambia | Zimbabwe\".split(\n",
    "        \" | \"\n",
    "    )\n",
    ")\n",
    "\n",
    "Africa - {x[0] for x in DATA.columns}"
   ]
  },
  {
   "cell_type": "code",
   "execution_count": null,
   "metadata": {},
   "outputs": [],
   "source": [
    "MiddleEast = {\n",
    "    \"Bahrain\",\n",
    "    \"Cyprus\",\n",
    "    \"Egypt\",\n",
    "    \"Gaza Strip\",\n",
    "    \"Iran\",\n",
    "    \"Iraq\",\n",
    "    \"Israel\",\n",
    "    \"Jordan\",\n",
    "    \"Kuwait\",\n",
    "    \"Lebanon\",\n",
    "    \"Oman\",\n",
    "    \"Qatar\",\n",
    "    \"Saudi Arabia\",\n",
    "    \"Syria\",\n",
    "    \"Turkey\",\n",
    "    \"United Arab Emirates\",\n",
    "    \"West Bank\",\n",
    "    \"Yemen\",\n",
    "}\n",
    "\n",
    "MiddleEast - {x[0] for x in DATA.columns}"
   ]
  },
  {
   "cell_type": "code",
   "execution_count": null,
   "metadata": {},
   "outputs": [],
   "source": [
    "SouthAmerica = set(\n",
    "    \"Argentina | Bolivia | Brazil | Chile | Colombia | Ecuador | Falkland Islands (British overseas territory) | French Guiana (French overseas region) | Guyana | Paraguay | Peru | Suriname | Uruguay | Venezuela\".split(\n",
    "        \" | \"\n",
    "    )\n",
    ")\n",
    "\n",
    "SouthAmerica - {x[0] for x in DATA.columns}"
   ]
  },
  {
   "cell_type": "code",
   "execution_count": null,
   "metadata": {},
   "outputs": [],
   "source": [
    "SouthEastAsia = {\n",
    "    \"Brunei\",\n",
    "    \"Cambodia\",\n",
    "    \"East Timor\",\n",
    "    \"Indonesia\",\n",
    "    \"Laos\",\n",
    "    \"Malaysia\",\n",
    "    \"Myanmar\",\n",
    "    \"Philippines\",\n",
    "    \"Singapore\",\n",
    "    \"Thailand\",\n",
    "    \"Vietnam\",\n",
    "}\n",
    "\n",
    "SouthEastAsia - {x[0] for x in DATA.columns}"
   ]
  },
  {
   "cell_type": "code",
   "execution_count": null,
   "metadata": {},
   "outputs": [],
   "source": [
    "CentralAsia = {\"Kazakhstan\", \"Kyrgyzstan\", \"Tajikistan\", \"Turkmenistan\", \"Uzbekistan\"}\n",
    "\n",
    "CentralAsia - {x[0] for x in DATA.columns}"
   ]
  },
  {
   "cell_type": "code",
   "execution_count": null,
   "metadata": {},
   "outputs": [],
   "source": [
    "EasternEurope = {\n",
    "    \"Belarus\",\n",
    "    \"Bulgaria\",\n",
    "    \"Czech Republic\",\n",
    "    \"Hungary\",\n",
    "    \"Moldova\",\n",
    "    \"Poland\",\n",
    "    \"Romania\",\n",
    "    \"Slovakia\",\n",
    "    \"Ukraine\",\n",
    "}\n",
    "\n",
    "EasternEurope - {x[0] for x in DATA.columns}"
   ]
  },
  {
   "cell_type": "code",
   "execution_count": null,
   "metadata": {},
   "outputs": [],
   "source": [
    "NorthAmerica = set(\n",
    "    \"Antigua and Barbuda | Bahamas | Barbados | Belize | Bermuda | British Virgin Islands | Canada | Cayman Islands | Costa Rica | Cuba | Curacao | Dominica | Dominican Republic | El Salvador | Greenland | Grenada | Guadeloupe | Guatemala | Haiti | Honduras | Jamaica | Martinique | Mexico | Montserrat | Nicaragua | Panama | Puerto Rico | Saint Kitts and Nevis | Saint Lucia | Saint Pierre and Miquelon | Saint Vincent and the Grenadines | Sint Maarten | Trinidad and Tobago | Turks and Caicos Islands | United States | United States Virgin Islands\".split(\n",
    "        \" | \"\n",
    "    )\n",
    ")\n",
    "\n",
    "NorthAmerica - {x[0] for x in DATA.columns}"
   ]
  },
  {
   "cell_type": "code",
   "execution_count": null,
   "metadata": {},
   "outputs": [],
   "source": [
    "Other = {x[0] for x in DATA.columns} - Europe - Africa - MiddleEast - SouthAmerica - SouthEastAsia - CentralAsia - EasternEurope - NorthAmerica\n",
    "\n",
    "Other"
   ]
  },
  {
   "cell_type": "code",
   "execution_count": null,
   "metadata": {},
   "outputs": [],
   "source": []
  },
  {
   "cell_type": "code",
   "execution_count": null,
   "metadata": {},
   "outputs": [],
   "source": [
    "# merge larger territories\n",
    "# \"EU,Africa,MiddleEast,SouthAmerica,SouthEastAsia,CentralAsia,EasternEurope\".split(\",\")\n",
    "\n",
    "Countries_All = {x[0] for x in DATA.columns}\n",
    "\n",
    "TERR = pd.DataFrame(index=DATA.index, columns=DATA.columns[:1])\n",
    "TERR_PCT = pd.DataFrame(index=DATA.index, columns=DATA.columns[:1])\n",
    "\n",
    "for stat in StatType:\n",
    "    for terr, terr_set in zip(\n",
    "        \"Europe,Africa,MiddleEast,SouthAmerica,SouthEastAsia,CentralAsia,EasternEurope,NorthAmerica\".split(\n",
    "            \",\"\n",
    "        ),\n",
    "        (\n",
    "            Europe,\n",
    "            Africa,\n",
    "            MiddleEast,\n",
    "            SouthAmerica,\n",
    "            SouthEastAsia,\n",
    "            CentralAsia,\n",
    "            EasternEurope,\n",
    "            NorthAmerica,\n",
    "        ),\n",
    "    ):\n",
    "        use_terr_set = Countries_All & terr_set\n",
    "        TERR[terr, stat] = DATA[product(use_terr_set, [stat])].sum(axis=1)\n",
    "\n",
    "        terr_popul = POPULATION.loc[use_terr_set, \"QTY\"].sum()\n",
    "        TERR_PCT[terr, stat] = TERR[terr, stat] / terr_popul * 100"
   ]
  },
  {
   "cell_type": "code",
   "execution_count": null,
   "metadata": {},
   "outputs": [],
   "source": []
  },
  {
   "cell_type": "code",
   "execution_count": null,
   "metadata": {},
   "outputs": [],
   "source": [
    "# ln(∂_cases) vs ln_cases\n",
    "\n",
    "Territories = [\n",
    "    \"Europe\",\n",
    "    \"Africa\",\n",
    "    \"MiddleEast\",\n",
    "    \"SouthAmerica\",\n",
    "    \"SouthEastAsia\",\n",
    "    \"CentralAsia\",\n",
    "    \"EasternEurope\",\n",
    "    \"NorthAmerica\",\n",
    "]\n",
    "\n",
    "fig, axes = plt.subplots(len(StatType), figsize=(8, 8 * len(StatType)))\n",
    "\n",
    "DTERR = pd.DataFrame(\n",
    "    np.gradient(TERR[Territories], axis=0), columns=TERR[Territories].columns\n",
    ")\n",
    "\n",
    "for i, stat in enumerate(StatType):\n",
    "    X = TERR[product(Territories, [stat])]\n",
    "    Y = DTERR[product(Territories, [stat])]\n",
    "    ax = axes[i]\n",
    "    ax.set_title(f\"{stat}: ∂_cases vs cases\")\n",
    "    ax.plot(X, Y, \"-\")\n",
    "    ax.set_xscale(\"log\")\n",
    "    ax.set_xlabel(\"cases\")\n",
    "\n",
    "    ax.set_yscale(\"log\")\n",
    "    ax.set_ylabel(\"∂(cases)\")\n",
    "    ax.legend(Territories)"
   ]
  },
  {
   "cell_type": "code",
   "execution_count": null,
   "metadata": {
    "scrolled": true
   },
   "outputs": [],
   "source": [
    "# % ln(∂_cases) vs ln_cases\n",
    "\n",
    "Territories = [\n",
    "    \"Europe\",\n",
    "    \"Africa\",\n",
    "    \"MiddleEast\",\n",
    "    \"SouthAmerica\",\n",
    "    \"SouthEastAsia\",\n",
    "    \"CentralAsia\",\n",
    "    \"EasternEurope\",\n",
    "    \"NorthAmerica\",\n",
    "]\n",
    "\n",
    "fig, axes = plt.subplots(len(StatType), figsize=(8, 8 * len(StatType)))\n",
    "\n",
    "DTERR_PCT = pd.DataFrame(\n",
    "    np.gradient(TERR_PCT[Territories], axis=0), columns=TERR_PCT[Territories].columns\n",
    ")\n",
    "\n",
    "for i, stat in enumerate(StatType):\n",
    "    X = TERR_PCT[product(Territories, [stat])]\n",
    "    Y = DTERR_PCT[product(Territories, [stat])]\n",
    "    ax = axes[i]\n",
    "    ax.set_title(f\"{stat}: ∂(% population) vs % population\")\n",
    "    ax.plot(X, Y, \"-\")\n",
    "    ax.set_xscale(\"log\")\n",
    "    ax.set_xlabel(\"% population\")\n",
    "\n",
    "    ax.set_yscale(\"log\")\n",
    "    ax.set_ylabel(\"∂(% poplulation)\")\n",
    "    ax.legend(Territories)"
   ]
  },
  {
   "cell_type": "code",
   "execution_count": null,
   "metadata": {},
   "outputs": [],
   "source": [
    "nodata = set(POPULATION.index) - {x[0] for x in DATA.columns}"
   ]
  },
  {
   "cell_type": "code",
   "execution_count": null,
   "metadata": {},
   "outputs": [],
   "source": [
    "POPULATION.loc[nodata,:].sort_values(by=\"QTY\")"
   ]
  },
  {
   "cell_type": "code",
   "execution_count": null,
   "metadata": {},
   "outputs": [],
   "source": []
  },
  {
   "cell_type": "code",
   "execution_count": null,
   "metadata": {},
   "outputs": [],
   "source": []
  },
  {
   "cell_type": "code",
   "execution_count": null,
   "metadata": {},
   "outputs": [],
   "source": []
  },
  {
   "cell_type": "code",
   "execution_count": null,
   "metadata": {},
   "outputs": [],
   "source": []
  }
 ],
 "metadata": {
  "kernelspec": {
   "display_name": "Python 3",
   "language": "python",
   "name": "python3"
  },
  "language_info": {
   "codemirror_mode": {
    "name": "ipython",
    "version": 3
   },
   "file_extension": ".py",
   "mimetype": "text/x-python",
   "name": "python",
   "nbconvert_exporter": "python",
   "pygments_lexer": "ipython3",
   "version": "3.8.2"
  }
 },
 "nbformat": 4,
 "nbformat_minor": 4
}
